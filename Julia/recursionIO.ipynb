{
 "cells": [
  {
   "cell_type": "code",
   "execution_count": 2,
   "metadata": {
    "collapsed": false
   },
   "outputs": [
   ],
   "source": [
    "filename = \"computedG.csv\"\n",
    "\n",
    "g = Dict()\n",
    "\n",
    "for line = readlines(filename)\n",
    "    l = split(line, \",\")\n",
    "    n = parse(Int, l[1])\n",
    "    a = [parse(Int, l[2]), parse(Int, l[3]), parse(Int, l[4])]\n",
    "    val = Vector{BigInt}()\n",
    "    for v = l[5:length(l)]\n",
    "        push!(val, parse(BigInt, v))\n",
    "    end\n",
    "    g[(n, a)] = val\n",
    "end"
   ]
  },
  {
   "cell_type": "code",
   "execution_count": 3,
   "metadata": {
    "collapsed": false
   },
   "outputs": [
    {
     "data": {
      "text/plain": [
       "appendG (generic function with 1 method)"
      ]
     },
     "execution_count": 3,
     "metadata": {
     },
     "output_type": "execute_result"
    }
   ],
   "source": [
    "function appendG(n, a, val)\n",
    "    f = open(filename, \"a\");\n",
    "    write(f, string(n)*\",\"*string(a[1])*\",\"*string(a[2])*\",\"*string(a[3])*\",\")\n",
    "    for i=1:length(val)-1\n",
    "        write(f, string(val[i])*\",\")\n",
    "    end\n",
    "    write(f, string(val[length(val)])*\"\\n\");\n",
    "    close(f);\n",
    "end"
   ]
  },
  {
   "cell_type": "code",
   "execution_count": 4,
   "metadata": {
    "collapsed": false
   },
   "outputs": [
   ],
   "source": [
    "caseToP = Dict(\n",
    "   1 => [], 2 => [], -2 => [], 3 => [], 4 => [], \n",
    "   5 => [1, 1], -5 => [3, 3], 6 => [1, 1], -6 => [3, 3], 7 => [2, 2], \n",
    "   8 => [2, 2], 9 => [1, 2], -9 => [2, 3], \n",
    "   10 => [1, 2], -10 => [2, 3], 11 => [1, 3], 12 => [1, 3],\n",
    "   13.1 => [1, 1, 2, 2], 13.2 => [1, 1, 2, 2], 13.3 => [1, 1, 2, 2],\n",
    "   -13.1 => [2, 2, 3, 3], -13.2 => [2, 2, 3, 3], -13.3 => [2, 2, 3, 3],\n",
    "   14.1 => [1, 1, 3, 3], 14.2 => [1, 1, 3, 3], 14.3 => [1, 1, 3, 3],\n",
    "   15.1 => [1, 1, 2, 3], 15.2 => [1, 1, 2, 3], 15.3 => [1, 1, 2, 3],\n",
    "   -15.1 => [1, 2, 3, 3], -15.2 => [1, 2, 3, 3], -15.3 => [1, 2, 3, 3],\n",
    "   16.1 => [1, 2, 2, 3], 16.2 => [1, 2, 2, 3], 16.3 => [1, 2, 2, 3],\n",
    "   17.1 => [1, 1, 2, 2, 3, 3], 17.2 => [1, 1, 2, 2, 3, 3], \n",
    "   17.3 => [1, 1, 2, 2, 3, 3], 17.4 => [1, 1, 2, 2, 3, 3]\n",
    ");"
   ]
  },
  {
   "cell_type": "code",
   "execution_count": 5,
   "metadata": {
    "collapsed": false
   },
   "outputs": [
   ],
   "source": [
    "caseToLoop = Dict(\n",
    "   1 => Vector{BigInt}([0, 2, 2]), 2 => Vector{BigInt}([0, 4, 3, 1]), -2 => Vector{BigInt}([0, 4, 3, 1]), \n",
    "   3 => Vector{BigInt}([0, 6, 2]), 4 => Vector{BigInt}([0, 16, 14, 2]), 5 => Vector{BigInt}([2, 2]), -5 => Vector{BigInt}([2, 2]), \n",
    "   6 => Vector{BigInt}([4, 3, 1]), -6 => Vector{BigInt}([4, 3, 1]), 7 => Vector{BigInt}([2, 2]), 8 => Vector{BigInt}([6, 2]), \n",
    "   9 => Vector{BigInt}([8, 6, 2]), -9 => Vector{BigInt}([8, 6, 2]), \n",
    "   10 => Vector{BigInt}([16, 14, 2]), -10 => Vector{BigInt}([16, 14, 2]), 11 => Vector{BigInt}([12, 4]), \n",
    "   12 => Vector{BigInt}([16, 14, 2]), 13.1 => Vector{BigInt}([1]), 13.2 => Vector{BigInt}([2, 1]), \n",
    "   13.3 => Vector{BigInt}([0]), -13.1 => Vector{BigInt}([1]), -13.2 => Vector{BigInt}([2, 1]), -13.3 => Vector{BigInt}([0]), \n",
    "   14.1 => Vector{BigInt}([2]), 14.2 => Vector{BigInt}([0]), 14.3 => Vector{BigInt}([2]), 15.1 => Vector{BigInt}([4, 2]), \n",
    "   15.2 => Vector{BigInt}([4, 1]), \n",
    "   15.3 => Vector{BigInt}([4, 1]), -15.1 => Vector{BigInt}([4, 2]), -15.2 => Vector{BigInt}([4, 1]), -15.3 => Vector{BigInt}([4, 1]), \n",
    "   16.1 => Vector{BigInt}([6, 1]), 16.2 => Vector{BigInt}([6, 1]), 16.3 => Vector{BigInt}([2]), 17.1 => Vector{BigInt}([1]), \n",
    "   17.2 => Vector{BigInt}([1]), 17.3 => Vector{BigInt}([1]), 17.4 => Vector{BigInt}([1])\n",
    ");"
   ]
  },
  {
   "cell_type": "code",
   "execution_count": 6,
   "metadata": {
    "collapsed": false
   },
   "outputs": [
   ],
   "source": [
    "caseToInternal = Dict(\n",
    "   1 => [0, 0, 0], \n",
    "   2 => [2, 0, 0], -2 => [0, 0, 2], 3 => [0, 2, 0], 4 => [1, 1, 1], \n",
    "   5 => [0, 0, 0], -5 => [0, 0, 0], 6 => [0, 0, 2], -6 => [2, 0, 0], \n",
    "   7 => [0, 0, 0], 8 => [0, 2, 0], 9 => [1, 0, 0], -9 => [0, 0, 1], \n",
    "   10 => [0, 1, 1], -10 => [1, 1, 0], 11 => [0, 1, 0],\n",
    "   12 => [1, 0, 1],\n",
    "   13.1 => [0, 0, 0], 13.2 => [0, 0, 0], 13.3 => [0, 0, 0],\n",
    "   -13.1 => [0, 0, 0], -13.2 => [0, 0, 0], -13.3 => [0, 0, 0],\n",
    "   14.1 => [0, 0, 0], 14.2 => [0, 0, 0], 14.3 => [0, 0, 0],\n",
    "   15.1 => [0, 0, 1], 15.2 => [0, 0, 1], 15.3 => [0, 0, 1],\n",
    "   -15.1 => [1, 0, 0], -15.2 => [1, 0, 0], -15.3 => [1, 0, 0],\n",
    "   16.1 => [0, 1, 0], 16.2 => [0, 1, 0], 16.3 => [0, 1, 0],\n",
    "   17.1 => [0, 0, 0], 17.2 => [0, 0, 0], 17.3 => [0, 0, 0], \n",
    "   17.4 => [0, 0, 0]\n",
    ");"
   ]
  },
  {
   "cell_type": "code",
   "execution_count": 7,
   "metadata": {
    "collapsed": false
   },
   "outputs": [
    {
     "data": {
      "text/plain": [
       "getOrdering (generic function with 1 method)"
      ]
     },
     "execution_count": 7,
     "metadata": {
     },
     "output_type": "execute_result"
    }
   ],
   "source": [
    "ordering1Through12 = Dict(0 => [[1, 2]]);\n",
    "ordering13Through16 = Dict(\n",
    "   1 => [[1, 2], [3, 4]],\n",
    "   2 => [[1, 3], [2, 4]],\n",
    "   3 => [[1, 4], [2, 3]]\n",
    ");\n",
    "ordering17 = Dict(\n",
    "   1 => [[1, 2], [3, 5], [4, 6]],\n",
    "   2 => [[1, 6], [2, 4], [3, 5]],\n",
    "   3 => [[1, 3], [2, 5], [4, 6]],\n",
    "   4 => [[1, 3], [2, 4], [5, 6]]\n",
    ");\n",
    "\n",
    "function getOrdering(case)\n",
    "    subcase = Int(round(10*(abs(case) - floor(abs(case)))));\n",
    "    if abs(case) <= 12\n",
    "        return ordering1Through12[subcase];\n",
    "    elseif abs(case) >= 17\n",
    "        return ordering17[subcase];\n",
    "    else\n",
    "        return ordering13Through16[subcase];\n",
    "    end\n",
    "end"
   ]
  },
  {
   "cell_type": "markdown",
   "metadata": {
    "collapsed": false
   },
   "source": [
    "### Helper functions\n",
    "\n"
   ]
  },
  {
   "cell_type": "code",
   "execution_count": 8,
   "metadata": {
    "collapsed": false
   },
   "outputs": [
    {
     "data": {
      "text/plain": [
       "raggedAdd (generic function with 1 method)"
      ]
     },
     "execution_count": 8,
     "metadata": {
     },
     "output_type": "execute_result"
    }
   ],
   "source": [
    "function raggedAdd(x, y)\n",
    "    if length(x) == length(y)\n",
    "        return x + y;\n",
    "    elseif length(x) > length(y)\n",
    "        return raggedAdd(y, x);\n",
    "    else\n",
    "        z = copy(y);\n",
    "        for i=1:length(x)\n",
    "            z[i] += x[i];\n",
    "        end\n",
    "        return z;\n",
    "    end\n",
    "end"
   ]
  },
  {
   "cell_type": "code",
   "execution_count": 9,
   "metadata": {
    "collapsed": false
   },
   "outputs": [
    {
     "data": {
      "text/plain": [
       "multiply (generic function with 1 method)"
      ]
     },
     "execution_count": 9,
     "metadata": {
     },
     "output_type": "execute_result"
    }
   ],
   "source": [
    "function multiply(x, y)\n",
    "    z = zeros(eltype(x), length(x)+length(y)-1);\n",
    "    for k=0:length(x)-1\n",
    "        for j=1:length(y)\n",
    "            z[k+j] += x[k+1] * y[j];\n",
    "        end\n",
    "    end\n",
    "    return z;\n",
    "end"
   ]
  },
  {
   "cell_type": "code",
   "execution_count": 10,
   "metadata": {
    "collapsed": false
   },
   "outputs": [
    {
     "data": {
      "text/plain": [
       "bij (generic function with 1 method)"
      ]
     },
     "execution_count": 10,
     "metadata": {
     },
     "output_type": "execute_result"
    }
   ],
   "source": [
    "function bij(n, b, i, j)\n",
    "    if i == j == 1\n",
    "        return BigInt(n - (b[1] + b[2]) / 2);\n",
    "    elseif i == j == 2\n",
    "        return BigInt(n - (b[1] + b[3]) / 2);\n",
    "    elseif i == j == 3\n",
    "        return BigInt(n - (b[2] + b[3]) / 2);\n",
    "    elseif (i == 1 && j == 2) || (j == 1 && i == 2)\n",
    "        return b[1];\n",
    "    elseif (i == 1 && j == 3) || (j == 1 && i == 3)\n",
    "        return b[2];\n",
    "    elseif (i == 2 && j == 3) || (j == 2 && i == 3)\n",
    "        return b[3];\n",
    "    end\n",
    "end"
   ]
  },
  {
   "cell_type": "code",
   "execution_count": 11,
   "metadata": {
    "collapsed": false
   },
   "outputs": [
    {
     "data": {
      "text/plain": [
       "tuples (generic function with 1 method)"
      ]
     },
     "execution_count": 11,
     "metadata": {
     },
     "output_type": "execute_result"
    }
   ],
   "source": [
    "function tuples(a, len)\n",
    "    args = []\n",
    "    for i=1:len\n",
    "        push!(args, a)\n",
    "    end\n",
    "    Iterators.product(args...)\n",
    "end"
   ]
  },
  {
   "cell_type": "code",
   "execution_count": 12,
   "metadata": {
    "collapsed": false
   },
   "outputs": [
    {
     "data": {
      "text/plain": [
       "computeDeltaAndComb (generic function with 1 method)"
      ]
     },
     "execution_count": 12,
     "metadata": {
     },
     "output_type": "execute_result"
    }
   ],
   "source": [
    "function computeDeltaAndComb(n, case, a)\n",
    "    list = [];\n",
    "    for v = tuples((1, 2, 3), length(caseToP[case]))\n",
    "        # v is ab, abcd, or abcdef\n",
    "        Delta = delta(case, collect(v)) - caseToInternal[case];\n",
    "        push!(list, (combinatorial(n-1, case, a+Delta, collect(v)), Delta));\n",
    "    end\n",
    "    return list;\n",
    "end"
   ]
  },
  {
   "cell_type": "code",
   "execution_count": 13,
   "metadata": {
    "collapsed": false
   },
   "outputs": [
    {
     "data": {
      "text/plain": [
       "delta (generic function with 1 method)"
      ]
     },
     "execution_count": 13,
     "metadata": {
     },
     "output_type": "execute_result"
    }
   ],
   "source": [
    "function delta(case, v)\n",
    "    x = Dict(\"11\"=> 0, \"12\"=>0, \"13\"=>0, \"22\"=>0, \"23\"=>0, \"33\"=>0);\n",
    "    p = caseToP[case];\n",
    "    \n",
    "    if length(p) != 0\n",
    "        for index = getOrdering(case)\n",
    "            x[join(map(a->string(a), sort(v[index])))] += 1;\n",
    "        end\n",
    "        for i=1:length(v)\n",
    "            x[join(map(a->string(a), sort([p[i], v[i]])))] -= 1;\n",
    "        end\n",
    "        \n",
    "    end\n",
    "    \n",
    "    return [x[\"12\"], x[\"13\"], x[\"23\"]];\n",
    "end"
   ]
  },
  {
   "cell_type": "code",
   "execution_count": 14,
   "metadata": {
    "collapsed": false
   },
   "outputs": [
    {
     "data": {
      "text/plain": [
       "combinatorial (generic function with 1 method)"
      ]
     },
     "execution_count": 14,
     "metadata": {
     },
     "output_type": "execute_result"
    }
   ],
   "source": [
    "function combinatorial(n, case, b, vv)\n",
    "    if length(vv) == 0\n",
    "        return 1;\n",
    "    end\n",
    "    \n",
    "    lenp = length(caseToP[case]);\n",
    "    v = vv[collect(Iterators.flatten(getOrdering(case)))];\n",
    "    b = [big(b[1]), big(b[2]), big(b[3])];\n",
    "    \n",
    "    if lenp == 0\n",
    "        return 1;\n",
    "    elseif lenp == 2\n",
    "        return 2^Int(v[1] == v[2]) * bij(n, b, v[1], v[2]);\n",
    "    elseif lenp == 4\n",
    "        return 2^Int(v[1] == v[2]) * 2^Int(v[3] == v[4]) * (\n",
    "            2 * binomial(bij(n, b, v[1], v[2]), 2) * Int(sort(v[1:2]) == sort(v[3:4]))\n",
    "            + bij(n, b, v[1], v[2]) * bij(n, b, v[3], v[4]) * Int(sort(v[1:2]) != sort(v[3:4]))\n",
    "        );\n",
    "    elseif lenp == 6\n",
    "        return (\n",
    "            8^Int(v[1] == v[2]) * 6 * binomial(bij(n, b, v[1], v[2]), 3) * Int(sort(v[1:2]) == sort(v[3:4]) == sort(v[5:6]))\n",
    "            + 2^Int(v[1] == v[2]) * 2^Int(v[3] == v[4]) * 2 * binomial(bij(n, b, v[1], v[2]), 2) * 2^Int(v[5] == v[6]) * bij(n, b, v[5], v[6]) * Int(sort(v[1:2]) == sort(v[3:4]) != sort(v[5:6]))\n",
    "            + 2^Int(v[1] == v[2]) * 2^Int(v[5] == v[6]) * 2 * binomial(bij(n, b, v[1], v[2]), 2) * 2^Int(v[3] == v[4]) * bij(n, b, v[3], v[4]) * Int(sort(v[1:2]) == sort(v[5:6]) != sort(v[3:4]))\n",
    "            + 2^Int(v[3] == v[4]) * 2^Int(v[5] == v[6]) * 2 * binomial(bij(n, b, v[3], v[4]), 2) * 2^Int(v[1] == v[2]) * bij(n, b, v[1], v[2]) * Int(sort(v[1:2]) != sort(v[3:4]) == sort(v[5:6]))\n",
    "            + 2^Int(v[1] == v[2]) * 2^Int(v[3] == v[4]) * 2^Int(v[5] == v[6]) * bij(n, b, v[1], v[2]) * bij(n, b, v[3], v[4]) * bij(n, b, v[5], v[6]) * Int(sort(v[1:2]) != sort(v[3:4]) != sort(v[5:6]) != sort(v[1:2]))\n",
    "        );\n",
    "    end\n",
    "end"
   ]
  },
  {
   "cell_type": "markdown",
   "metadata": {
    "collapsed": false
   },
   "source": [
    "### Recursion\n",
    "\n"
   ]
  },
  {
   "cell_type": "code",
   "execution_count": 15,
   "metadata": {
    "collapsed": false
   },
   "outputs": [
    {
     "data": {
      "text/plain": [
       "computeG (generic function with 1 method)"
      ]
     },
     "execution_count": 15,
     "metadata": {
     },
     "output_type": "execute_result"
    }
   ],
   "source": [
    "function computeG(n, a)\n",
    "    val = [big(0)]\n",
    "    if haskey(g, (n, a))\n",
    "        return g[(n, a)]\n",
    "    elseif a[1] < 0 || a[2] < 0 || a[3] < 0\n",
    "        return val\n",
    "    elseif sum(a) > 2*n || isodd(a[1] + a[2]) || isodd(a[1] + a[3]) || isodd(a[2] + a[3])\n",
    "        return val\n",
    "    end\n",
    "    \n",
    "    for case = keys(caseToP)\n",
    "        for tup = computeDeltaAndComb(n, case, a)\n",
    "            # tup = [combinatorial factor, Delta]\n",
    "            val = raggedAdd(\n",
    "                val,\n",
    "                big(tup[1]) * multiply(caseToLoop[case], computeG(n-1, a + tup[2]))\n",
    "            );\n",
    "        end\n",
    "    end\n",
    "    \n",
    "    g[(n, a)] = val;\n",
    "    appendG(n, a, val);\n",
    "    return val;\n",
    "end"
   ]
  },
  {
   "cell_type": "markdown",
   "metadata": {
    "collapsed": false
   },
   "source": [
    "### Run it\n",
    "\n"
   ]
  },
  {
   "cell_type": "code",
   "execution_count": 16,
   "metadata": {
    "collapsed": false
   },
   "outputs": [
    {
     "data": {
      "text/plain": [
       "7-element Vector{BigInt}:\n",
       "     0\n",
       " 74880\n",
       " 90336\n",
       " 40752\n",
       "  8976\n",
       "  1008\n",
       "    48"
      ]
     },
     "execution_count": 16,
     "metadata": {
     },
     "output_type": "execute_result"
    }
   ],
   "source": [
    "computeG(3, [0,0,0])"
   ]
  },
  {
   "cell_type": "code",
   "execution_count": 17,
   "metadata": {
    "collapsed": false
   },
   "outputs": [
    {
     "data": {
      "text/plain": [
       "9-element Vector{BigInt}:\n",
       "         0\n",
       "  86433792\n",
       " 115953152\n",
       "  61402880\n",
       "  17108352\n",
       "   2780608\n",
       "    271360\n",
       "     15168\n",
       "       384"
      ]
     },
     "execution_count": 17,
     "metadata": {
     },
     "output_type": "execute_result"
    }
   ],
   "source": [
    "computeG(4, [0,0,0])"
   ]
  },
  {
   "cell_type": "code",
   "execution_count": 18,
   "metadata": {
    "collapsed": false
   },
   "outputs": [
    {
     "data": {
      "text/plain": [
       "11-element Vector{BigInt}:\n",
       "            0\n",
       " 212978515968\n",
       " 308629868544\n",
       " 182544276480\n",
       "  59126486016\n",
       "  11770990848\n",
       "   1521204480\n",
       "    130094208\n",
       "      7248384\n",
       "       243840\n",
       "         3840"
      ]
     },
     "execution_count": 18,
     "metadata": {
     },
     "output_type": "execute_result"
    }
   ],
   "source": [
    "computeG(5, [0,0,0])"
   ]
  },
  {
   "cell_type": "markdown",
   "metadata": {
    "collapsed": false
   },
   "source": [
    "## Consistency checks\n",
    "\n"
   ]
  },
  {
   "cell_type": "code",
   "execution_count": 19,
   "metadata": {
    "collapsed": false
   },
   "outputs": [
    {
     "name": "stdout",
     "output_type": "stream",
     "text": [
      "true\n",
      "true\n",
      "true\n",
      "true\n",
      "true\n"
     ]
    }
   ],
   "source": [
    "using Combinatorics\n",
    "\n",
    "function dfactorial(x)\n",
    "    if x >= 0\n",
    "        return doublefactorial(x);\n",
    "    else\n",
    "        return -1;\n",
    "    end\n",
    "end\n",
    "\n",
    "for n=1:5\n",
    "    l = computeG(n, [0, 0, 0])\n",
    "    println(l[length(l)] == dfactorial(2*n));\n",
    "end"
   ]
  },
  {
   "cell_type": "code",
   "execution_count": 20,
   "metadata": {
    "collapsed": false
   },
   "outputs": [
    {
     "name": "stdout",
     "output_type": "stream",
     "text": [
      "false\n"
     ]
    }
   ],
   "source": [
    "function graphCounter(n, a)\n",
    "    a12 = a[1];\n",
    "    a13 = a[2];\n",
    "    a23 = a[3];\n",
    "    \n",
    "    return (\n",
    "        binomial(2*n, a12) * binomial(2*n-a12, a13) * binomial(2*n, a12) * binomial(2*n-a12, a23)\n",
    "        * binomial(2*n, a13) * binomial(2*n-a13, a23) * factorial(a12) * factorial(a13) * factorial(a23)\n",
    "        * dfactorial(2*n-a12-a13-1) * dfactorial(2*n-a12-a23-1) * dfactorial(2*n-a13-a23-1)\n",
    "        * 4^n\n",
    "    );\n",
    "end\n",
    "\n",
    "for key = keys(g)\n",
    "    if sum(computeG(key...)) != graphCounter(key...)\n",
    "        println(false);\n",
    "        break;\n",
    "    end\n",
    "end"
   ]
  },
  {
   "cell_type": "code",
   "execution_count": 0,
   "metadata": {
    "collapsed": false
   },
   "outputs": [
   ],
   "source": [
   ]
  }
 ],
 "metadata": {
  "kernelspec": {
   "argv": [
    "/ext/julia/julia-1.9/bin/julia",
    "-i",
    "--startup-file=yes",
    "--color=yes",
    "/ext/julia/depot/packages/IJulia/6TIq1/src/kernel.jl",
    "{connection_file}"
   ],
   "display_name": "Julia 1.9",
   "env": {
    "JULIA_DEPOT_PATH": "/home/user/.julia/:/ext/julia/depot/",
    "JULIA_PROJECT": "/home/user/.julia/environment/v1.9"
   },
   "language": "julia",
   "metadata": {
    "cocalc": {
     "description": "The Julia Programming Language",
     "priority": 5,
     "url": "https://julialang.org/"
    }
   },
   "name": "julia-1.9",
   "resource_dir": "/ext/jupyter/kernels/julia-1.9"
  },
  "language_info": {
   "file_extension": ".jl",
   "mimetype": "application/julia",
   "name": "julia",
   "version": "1.9.0"
  }
 },
 "nbformat": 4,
 "nbformat_minor": 4
}